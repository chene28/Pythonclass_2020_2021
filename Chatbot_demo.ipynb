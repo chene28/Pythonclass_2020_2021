{
 "cells": [
  {
   "cell_type": "code",
   "execution_count": 1,
   "metadata": {
    "collapsed": true
   },
   "outputs": [],
   "source": [
    "def introduce_myself():\n",
    "    Name=input('What is your name?')\n",
    "    print('Nice to meet you, '+Name+'!')\n",
    "    Food=input('What is your favorite food ?')\n",
    "    print('hmm ~~ I love '+Food +' too ! That is yummy!!')\n",
    "    Sports=input('What is your favorite sports? ')\n",
    "    print('Wow, that is impressive! I tried to learn '+Sports +' too, but it is too difficult and I gave up..')\n",
    "    Feeling=input('How are you feeling today?')\n",
    "    print('Why are you feeling '+Feeling,'now?')\n",
    "    reason=input('Please tell me..')\n",
    "    print('I understand ! Thanks for sharing')\n",
    "    print('Goodbye',Name,'I liked chatting with you ! ')"
   ]
  },
  {
   "cell_type": "code",
   "execution_count": 2,
   "metadata": {},
   "outputs": [
    {
     "name": "stdout",
     "output_type": "stream",
     "text": [
      "What is your name?CC\n",
      "Nice to meet you, CC!\n",
      "What is your favorite food ?Pizza\n",
      "hmm ~~ I love Pizza too ! That is yummy!!\n",
      "What is your favorite sportsSwimming\n",
      "Wow, that is impressive! I tried to learn Swimming too, but it is too difficult and I gave up..\n",
      "How are you feeling today?excited\n",
      "Why are you feeling excited now?\n",
      "Please tell me..I am exicted to see my students in my python class !\n",
      "I understand ! Thanks for sharing\n",
      "Goodbye CC I liked chatting with you\n"
     ]
    }
   ],
   "source": [
    "introduce_myself()"
   ]
  },
  {
   "cell_type": "code",
   "execution_count": 4,
   "metadata": {},
   "outputs": [
    {
     "data": {
      "text/plain": [
       "'C:\\\\Users\\\\CHENGCHI\\\\Untitled Folder'"
      ]
     },
     "execution_count": 4,
     "metadata": {},
     "output_type": "execute_result"
    }
   ],
   "source": [
    "import os\n",
    "os.getcwd()"
   ]
  },
  {
   "cell_type": "code",
   "execution_count": null,
   "metadata": {
    "collapsed": true
   },
   "outputs": [],
   "source": []
  }
 ],
 "metadata": {
  "kernelspec": {
   "display_name": "Python 3",
   "language": "python",
   "name": "python3"
  },
  "language_info": {
   "codemirror_mode": {
    "name": "ipython",
    "version": 3
   },
   "file_extension": ".py",
   "mimetype": "text/x-python",
   "name": "python",
   "nbconvert_exporter": "python",
   "pygments_lexer": "ipython3",
   "version": "3.6.1"
  }
 },
 "nbformat": 4,
 "nbformat_minor": 2
}
